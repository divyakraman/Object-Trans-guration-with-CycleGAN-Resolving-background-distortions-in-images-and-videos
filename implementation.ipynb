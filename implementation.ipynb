{
 "cells": [
  {
   "cell_type": "code",
   "execution_count": 144,
   "metadata": {
    "collapsed": true
   },
   "outputs": [],
   "source": [
    "import numpy as np\n",
    "import cv2\n",
    "import matplotlib.pyplot as plt\n",
    "%matplotlib inline"
   ]
  },
  {
   "cell_type": "code",
   "execution_count": 145,
   "metadata": {},
   "outputs": [
    {
     "name": "stdout",
     "output_type": "stream",
     "text": [
      "128\n"
     ]
    }
   ],
   "source": [
    "cap = cv2.VideoCapture('Jump.avi')\n",
    "num_frames=0\n",
    "ret=True\n",
    "while(ret==True):\n",
    "    # Capture frame-by-frame\n",
    "    ret, frame = cap.read()\n",
    "    num_frames=num_frames+1\n",
    "    #gray = cv2.cvtColor(frame, cv2.COLOR_BGR2GRAY)\n",
    "    #frame.shape\n",
    "        \n",
    "print(num_frames)"
   ]
  },
  {
   "cell_type": "code",
   "execution_count": 146,
   "metadata": {
    "collapsed": true
   },
   "outputs": [],
   "source": [
    "cap = cv2.VideoCapture('Jump.avi')\n",
    "ret,frame=cap.read()\n",
    "frame = np.dot(frame[...,:3], [0.299, 0.587, 0.114])\n",
    "fshape = frame.shape"
   ]
  },
  {
   "cell_type": "code",
   "execution_count": 147,
   "metadata": {
    "collapsed": true
   },
   "outputs": [],
   "source": [
    "num_labels = 2 #Foreground: person and background; person is index 0 and background is index 1\n",
    "mu = np.zeros((fshape[0],fshape[1],num_labels))\n",
    "sigma = np.zeros((fshape[0],fshape[1],num_labels))\n",
    "weights = np.zeros((fshape[0],fshape[1],num_labels))\n",
    "N = np.zeros((fshape[0],fshape[1],num_labels))\n",
    "M = np.zeros((fshape[0],fshape[1],num_labels))\n",
    "Z = np.zeros((fshape[0],fshape[1],num_labels))"
   ]
  },
  {
   "cell_type": "code",
   "execution_count": 148,
   "metadata": {},
   "outputs": [
    {
     "data": {
      "text/plain": [
       "(144, 180, 2)"
      ]
     },
     "execution_count": 148,
     "metadata": {},
     "output_type": "execute_result"
    }
   ],
   "source": [
    "mu.shape"
   ]
  },
  {
   "cell_type": "code",
   "execution_count": 149,
   "metadata": {},
   "outputs": [],
   "source": [
    "#Gaussian function\n",
    "def Gaussian(mu,sigma,x):\n",
    "    b = (x-mu)*(x-mu)\n",
    "    b = b*(-1/2)\n",
    "    b = b/(sigma*sigma)\n",
    "    b = np.exp(b)\n",
    "    b = b/np.power(2*22/7,0.5)\n",
    "    b = b/(sigma)\n",
    "    return b"
   ]
  },
  {
   "cell_type": "code",
   "execution_count": 150,
   "metadata": {
    "collapsed": true
   },
   "outputs": [],
   "source": [
    "#Initialisation\n",
    "weights[:,:,:]=0.5\n",
    "sigma[:,:,:]=0.0784#Standard deviation 1 pixel\n",
    "mu[:,:,1]=0.627\n",
    "mu[:,:,0]=0.694\n",
    "N=weights\n",
    "M=np.multiply(weights,mu)\n",
    "Z=np.multiply(weights,sigma+np.multiply(mu,mu))"
   ]
  },
  {
   "cell_type": "code",
   "execution_count": 151,
   "metadata": {
    "collapsed": true
   },
   "outputs": [],
   "source": [
    "#fourcc = cv2.VideoWriter_fourcc(*'XVID')\n",
    "#out = cv2.VideoWriter('output.avi', fourcc, 5.0, (fshape[0],fshape[1]))\n"
   ]
  },
  {
   "cell_type": "code",
   "execution_count": 152,
   "metadata": {},
   "outputs": [
    {
     "name": "stdout",
     "output_type": "stream",
     "text": [
      "1\n",
      "2\n",
      "3\n",
      "4\n",
      "5\n",
      "6\n",
      "7\n",
      "8\n",
      "9\n",
      "10\n",
      "11\n",
      "12\n",
      "13\n",
      "14\n",
      "15\n",
      "16\n",
      "17\n",
      "18\n",
      "19\n",
      "20\n",
      "21\n",
      "22\n",
      "23\n",
      "24\n",
      "25\n",
      "26\n",
      "27\n",
      "28\n",
      "29\n",
      "30\n",
      "31\n",
      "32\n",
      "33\n",
      "34\n",
      "35\n",
      "36\n",
      "37\n",
      "38\n",
      "39\n",
      "40\n",
      "41\n",
      "42\n",
      "43\n",
      "44\n",
      "45\n",
      "46\n",
      "47\n",
      "48\n",
      "49\n",
      "50\n",
      "51\n"
     ]
    }
   ],
   "source": [
    "#Parameter updation and backgroud detection using rest of the frames\n",
    "k=0\n",
    "#while(ret==True):\n",
    "Prob_label = np.zeros((fshape[0],fshape[1],num_labels))\n",
    "total_prob = np.zeros((fshape[0],fshape[1]))\n",
    "temp=np.zeros((fshape[0],fshape[1],num_labels))\n",
    "while(k<=50):\n",
    "    ret, frame = cap.read()\n",
    "    frame = np.dot(frame[...,:3], [0.299, 0.587, 0.114])\n",
    "    frame = frame/255.0\n",
    "    k=k+1\n",
    "    labels = np.zeros((fshape[0],fshape[1]))#Full black\n",
    "    print(k)\n",
    "    for i in range(num_labels):\n",
    "        total_prob = total_prob+(weights[:,:,i]*Gaussian(mu[:,:,i],sigma[:,:,i],frame))\n",
    "    for i in range(num_labels):\n",
    "        Prob_label[:,:,i] = weights[:,:,i]*Gaussian(mu[:,:,i],sigma[:,:,i],frame)/total_prob\n",
    "    labels = np.argmax(Prob_label,axis=2)\n",
    "    labels = labels*255.0\n",
    "    #labels_cv = cv2.cvtColor(np.uint8(labels), cv2.COLOR_GRAY2BGR)\n",
    "    #out.write(labels_cv)\n",
    "    for i in range(num_labels):\n",
    "        N[:,:,i]=N[:,:,i]+Prob_label[:,:,i]\n",
    "        M[:,:,i]=M[:,:,i]+(Prob_label[:,:,i]*frame)\n",
    "        Z[:,:,i]=Z[:,:,i]+(Prob_label[:,:,i]*frame*frame)\n",
    "    for i in range(num_labels):\n",
    "        temp[:,:,i]=np.ndarray.sum(N,axis=2)\n",
    "    weights=N/temp\n",
    "    mu=M/N\n",
    "    sigma=(Z/N)-(mu*mu)"
   ]
  },
  {
   "cell_type": "code",
   "execution_count": 153,
   "metadata": {},
   "outputs": [
    {
     "data": {
      "text/plain": [
       "<matplotlib.image.AxesImage at 0x22c737cf518>"
      ]
     },
     "execution_count": 153,
     "metadata": {},
     "output_type": "execute_result"
    },
    {
     "data": {
      "image/png": "[encoded data removed]",
      "text/plain": [
       "<matplotlib.figure.Figure at 0x22c71dc70f0>"
      ]
     },
     "metadata": {},
     "output_type": "display_data"
    }
   ],
   "source": [
    "plt.imshow(labels)"
   ]
  },
  {
   "cell_type": "code",
   "execution_count": 154,
   "metadata": {},
   "outputs": [],
   "source": [
    "#out.release()"
   ]
  },
  {
   "cell_type": "code",
   "execution_count": null,
   "metadata": {
    "collapsed": true
   },
   "outputs": [],
   "source": []
  }
 ],
 "metadata": {
  "kernelspec": {
   "display_name": "Python 3",
   "language": "python",
   "name": "python3"
  },
  "language_info": {
   "codemirror_mode": {
    "name": "ipython",
    "version": 3
   },
   "file_extension": ".py",
   "mimetype": "text/x-python",
   "name": "python",
   "nbconvert_exporter": "python",
   "pygments_lexer": "ipython3",
   "version": "3.6.6"
  }
 },
 "nbformat": 4,
 "nbformat_minor": 2
}
